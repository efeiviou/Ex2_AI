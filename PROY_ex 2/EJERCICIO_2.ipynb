{
 "cells": [
  {
   "cell_type": "markdown",
   "id": "1698753c",
   "metadata": {},
   "source": [
    "# EJERCICIO 2\n",
    "---------------"
   ]
  },
  {
   "cell_type": "markdown",
   "id": "9efab060",
   "metadata": {},
   "source": [
    "Generar una red neuronal (sin librerias) de tres capas con tasa de aprendizaje 0.2 y funcion de activacion escalon."
   ]
  },
  {
   "cell_type": "markdown",
   "id": "97ec1e6a",
   "metadata": {},
   "source": [
    "### Ejemplo"
   ]
  },
  {
   "cell_type": "code",
   "execution_count": 4,
   "id": "8f6b26a1",
   "metadata": {},
   "outputs": [
    {
     "name": "stdout",
     "output_type": "stream",
     "text": [
      "Input: [0, 0], Output: [0]\n",
      "Input: [0, 1], Output: [0]\n",
      "Input: [1, 0], Output: [0]\n",
      "Input: [1, 1], Output: [0]\n"
     ]
    }
   ],
   "source": [
    "import random\n",
    "\n",
    "def step_function(x):\n",
    "    return 1 if x >= 0 else 0\n",
    "\n",
    "def initialize_weights(layers):\n",
    "    weights = []\n",
    "    for i in range(len(layers) - 1):\n",
    "        layer_weights = [[random.uniform(-1, 1) for _ in range(layers[i])] for _ in range(layers[i + 1])]\n",
    "        weights.append(layer_weights)\n",
    "    return weights\n",
    "\n",
    "def initialize_biases(layers):\n",
    "    biases = []\n",
    "    for i in range(1, len(layers)):\n",
    "        layer_biases = [random.uniform(-1, 1) for _ in range(layers[i])]\n",
    "        biases.append(layer_biases)\n",
    "    return biases\n",
    "\n",
    "def forward_propagation(inputs, weights, biases):\n",
    "    activations = [inputs]\n",
    "    for i in range(len(weights)):\n",
    "        net_inputs = []\n",
    "        current_activations = activations[-1]\n",
    "        for j in range(len(weights[i])):\n",
    "            net_input = sum(current_activations[k] * weights[i][j][k] for k in range(len(current_activations))) + biases[i][j]\n",
    "            net_inputs.append(step_function(net_input))\n",
    "        activations.append(net_inputs)\n",
    "    return activations\n",
    "\n",
    "def back_propagation(weights, biases, activations, target, learning_rate):\n",
    "    deltas = []\n",
    "    error = [target[i] - activations[-1][i] for i in range(len(target))]\n",
    "    \n",
    "    # Calcular delta para la última capa\n",
    "    delta = error\n",
    "    deltas.append(delta)\n",
    "    \n",
    "    # Calcular deltas para capas ocultas\n",
    "    for i in reversed(range(len(weights) - 1)):\n",
    "        delta = []\n",
    "        for j in range(len(weights[i])):\n",
    "            error = sum(weights[i + 1][k][j] * deltas[-1][k] for k in range(len(deltas[-1])))\n",
    "            delta.append(error)\n",
    "        deltas.append(delta)\n",
    "    \n",
    "    deltas.reverse()\n",
    "    \n",
    "    # Actualizar pesos y sesgos\n",
    "    for i in range(len(weights)):\n",
    "        layer_inputs = activations[i]\n",
    "        for j in range(len(weights[i])):\n",
    "            for k in range(len(weights[i][j])):\n",
    "                weights[i][j][k] += learning_rate * deltas[i][j] * layer_inputs[k]\n",
    "            biases[i][j] += learning_rate * deltas[i][j]\n",
    "\n",
    "# Entrenar la red neuronal\n",
    "def train_network(inputs, targets, layers, learning_rate, epochs):\n",
    "    weights = initialize_weights(layers)\n",
    "    biases = initialize_biases(layers)\n",
    "    \n",
    "    for epoch in range(epochs):\n",
    "        for input_vector, target_vector in zip(inputs, targets):\n",
    "            activations = forward_propagation(input_vector, weights, biases)\n",
    "            back_propagation(weights, biases, activations, target_vector, learning_rate)\n",
    "    \n",
    "    return weights, biases\n",
    "\n",
    "# Ejemplo de uso\n",
    "layers = [2, 2, 1]\n",
    "\n",
    "inputs = [[0, 0], [0, 1], [1, 0], [1, 1]]\n",
    "targets = [[0], [1], [1], [0]]\n",
    "\n",
    "learning_rate = 0.2\n",
    "epochs = 10000\n",
    "weights, biases = train_network(inputs, targets, layers, learning_rate, epochs)\n",
    "\n",
    "# red\n",
    "for input_vector in inputs:\n",
    "    activations = forward_propagation(input_vector, weights, biases)\n",
    "    output = activations[-1]\n",
    "    print(f\"Input: {input_vector}, Output: {output}\")\n"
   ]
  },
  {
   "cell_type": "code",
   "execution_count": null,
   "id": "f864eb54",
   "metadata": {},
   "outputs": [],
   "source": []
  }
 ],
 "metadata": {
  "kernelspec": {
   "display_name": "Python 3 (ipykernel)",
   "language": "python",
   "name": "python3"
  },
  "language_info": {
   "codemirror_mode": {
    "name": "ipython",
    "version": 3
   },
   "file_extension": ".py",
   "mimetype": "text/x-python",
   "name": "python",
   "nbconvert_exporter": "python",
   "pygments_lexer": "ipython3",
   "version": "3.11.3"
  }
 },
 "nbformat": 4,
 "nbformat_minor": 5
}
