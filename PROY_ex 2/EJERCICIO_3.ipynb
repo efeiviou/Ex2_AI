{
 "cells": [
  {
   "cell_type": "markdown",
   "id": "a7d871ae",
   "metadata": {},
   "source": [
    "# EJERCICIO 3\n",
    "-------------------------"
   ]
  },
  {
   "cell_type": "markdown",
   "id": "e4526d05",
   "metadata": {},
   "source": [
    "Dado un problema combinatorio encontrar una combinacion mediante sistemas de vecinos."
   ]
  },
  {
   "cell_type": "code",
   "execution_count": 1,
   "id": "71659757",
   "metadata": {},
   "outputs": [
    {
     "name": "stdout",
     "output_type": "stream",
     "text": [
      "[0, 29, 23, 18, 59]\n",
      "[13, 0, 95, 2, 71]\n",
      "[79, 54, 0, 32, 32]\n",
      "[69, 46, 66, 0, 11]\n",
      "[8, 4, 25, 63, 0]\n",
      "Initial solution: [0, 4, 2, 1, 3]\n",
      "Best solution: [4, 0, 2, 1, 3]\n",
      "Best cost: 98\n"
     ]
    }
   ],
   "source": [
    "import random\n",
    "\n",
    "num_cities = 5\n",
    "distances = [[random.randint(1, 100) if i != j else 0 for j in range(num_cities)] for i in range(num_cities)]\n",
    "\n",
    "for row in distances:\n",
    "    print(row)\n",
    "\n",
    "def calculate_cost(route, distances):\n",
    "    cost = 0\n",
    "    for i in range(len(route) - 1):\n",
    "        cost += distances[route[i]][route[i + 1]]\n",
    "    cost += distances[route[-1]][route[0]] \n",
    "    return cost\n",
    "\n",
    "def generate_initial_solution(num_cities):\n",
    "    solution = list(range(num_cities))\n",
    "    random.shuffle(solution)\n",
    "    return solution\n",
    "\n",
    "def get_neighbors(solution):\n",
    "    neighbors = []\n",
    "    for i in range(len(solution)):\n",
    "        for j in range(i + 1, len(solution)):\n",
    "            neighbor = solution[:]\n",
    "            neighbor[i], neighbor[j] = neighbor[j], neighbor[i]\n",
    "            neighbors.append(neighbor)\n",
    "    return neighbors\n",
    "\n",
    "def local_search(initial_solution, distances, max_iterations=1000):\n",
    "    current_solution = initial_solution\n",
    "    current_cost = calculate_cost(current_solution, distances)\n",
    "\n",
    "    for _ in range(max_iterations):\n",
    "        neighbors = get_neighbors(current_solution)\n",
    "        next_solution = min(neighbors, key=lambda s: calculate_cost(s, distances))\n",
    "        next_cost = calculate_cost(next_solution, distances)\n",
    "        \n",
    "        if next_cost < current_cost:\n",
    "            current_solution = next_solution\n",
    "            current_cost = next_cost\n",
    "        else:\n",
    "            break\n",
    "    \n",
    "    return current_solution, current_cost\n",
    "\n",
    "# Generar una solución inicial\n",
    "initial_solution = generate_initial_solution(num_cities)\n",
    "print(f\"Initial solution: {initial_solution}\")\n",
    "\n",
    "# Ejecutar la búsqueda local\n",
    "best_solution, best_cost = local_search(initial_solution, distances)\n",
    "print(f\"Best solution: {best_solution}\")\n",
    "print(f\"Best cost: {best_cost}\")\n"
   ]
  },
  {
   "cell_type": "code",
   "execution_count": null,
   "id": "e0ba04ab",
   "metadata": {},
   "outputs": [],
   "source": []
  }
 ],
 "metadata": {
  "kernelspec": {
   "display_name": "Python 3 (ipykernel)",
   "language": "python",
   "name": "python3"
  },
  "language_info": {
   "codemirror_mode": {
    "name": "ipython",
    "version": 3
   },
   "file_extension": ".py",
   "mimetype": "text/x-python",
   "name": "python",
   "nbconvert_exporter": "python",
   "pygments_lexer": "ipython3",
   "version": "3.11.3"
  }
 },
 "nbformat": 4,
 "nbformat_minor": 5
}
